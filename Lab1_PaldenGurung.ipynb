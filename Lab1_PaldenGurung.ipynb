{
  "nbformat": 4,
  "nbformat_minor": 0,
  "metadata": {
    "colab": {
      "provenance": [],
      "authorship_tag": "ABX9TyOn4izPLR7vY3sJ6Qz9DS3X",
      "include_colab_link": true
    },
    "kernelspec": {
      "name": "python3",
      "display_name": "Python 3"
    },
    "language_info": {
      "name": "python"
    }
  },
  "cells": [
    {
      "cell_type": "markdown",
      "metadata": {
        "id": "view-in-github",
        "colab_type": "text"
      },
      "source": [
        "<a href=\"https://colab.research.google.com/github/paldengrg/Codes/blob/master/Lab1_PaldenGurung.ipynb\" target=\"_parent\"><img src=\"https://colab.research.google.com/assets/colab-badge.svg\" alt=\"Open In Colab\"/></a>"
      ]
    },
    {
      "cell_type": "markdown",
      "source": [
        "# Palden Gurung\n",
        "# S00391340\n",
        "# ITEC102\n"
      ],
      "metadata": {
        "id": "VfaKd0UE7-Rf"
      }
    },
    {
      "cell_type": "markdown",
      "source": [
        "# Lab 1 Practices\n",
        "## Lab 1 Practices\n",
        "### Lab 1 Practices"
      ],
      "metadata": {
        "id": "481LTanC8pcH"
      }
    },
    {
      "cell_type": "code",
      "execution_count": 2,
      "metadata": {
        "colab": {
          "base_uri": "https://localhost:8080/"
        },
        "id": "rlXG05PP73ps",
        "outputId": "2a2d190d-3d90-4544-ffcd-70debdbb1f47"
      },
      "outputs": [
        {
          "output_type": "stream",
          "name": "stdout",
          "text": [
            "hello world\n"
          ]
        }
      ],
      "source": [
        "print(\"hello world\")\n"
      ]
    },
    {
      "cell_type": "markdown",
      "source": [],
      "metadata": {
        "id": "yI0K_JNV-UI4"
      }
    },
    {
      "cell_type": "code",
      "source": [
        "\n",
        "for _ in range(5): print(\"Palden, Welcome to ITEC102!\" )"
      ],
      "metadata": {
        "colab": {
          "base_uri": "https://localhost:8080/"
        },
        "id": "Plct18N--MPf",
        "outputId": "4bf16307-5e59-476f-9b08-dd53f6071b03"
      },
      "execution_count": 4,
      "outputs": [
        {
          "output_type": "stream",
          "name": "stdout",
          "text": [
            "Palden, Welcome to ITEC102!\n",
            "Palden, Welcome to ITEC102!\n",
            "Palden, Welcome to ITEC102!\n",
            "Palden, Welcome to ITEC102!\n",
            "Palden, Welcome to ITEC102!\n"
          ]
        }
      ]
    }
  ]
}